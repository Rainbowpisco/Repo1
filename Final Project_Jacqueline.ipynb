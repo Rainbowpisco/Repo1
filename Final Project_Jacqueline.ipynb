{
 "cells": [
  {
   "cell_type": "code",
   "execution_count": 38,
   "id": "2c16a497",
   "metadata": {},
   "outputs": [
    {
     "name": "stdout",
     "output_type": "stream",
     "text": [
      "Welcome to Behind-The-Door Break Room Cafe \n",
      "Would you like to see the menu? yes/no: YES\n",
      "Jackie's Specials!\n",
      "coffee                   ${'price': 3.0, 'quantity': 5, 'taxable': True}\n",
      "ham sandwich             ${'price': 7.5, 'quantity': 3, 'taxable': True}\n",
      "hot cocoa                ${'price': 3.5, 'quantity': 10, 'taxable': True}\n",
      "cookies                  ${'price': 2.25, 'quantity': 10, 'taxable': True}\n",
      "water                    ${'price': 1.5, 'quantity': 15, 'taxable': False}\n",
      "croisant                 ${'price': 2.0, 'quantity': 5, 'taxable': True}\n",
      "Would you like to order? yes/no: YES\n",
      "Enter your item: WATER\n",
      "Enter your quantity: 15\n",
      "Would you like to order? yes/no: YES\n",
      "Enter your item: CROISANT\n",
      "Enter your quantity: 3\n",
      "Would you like to order? yes/no: YES\n",
      "Enter your item: HAM SANDWICH\n",
      "Enter your quantity: fifteen\n"
     ]
    },
    {
     "ename": "ValueError",
     "evalue": "invalid literal for int() with base 10: 'fifteen'",
     "output_type": "error",
     "traceback": [
      "\u001b[1;31m---------------------------------------------------------------------------\u001b[0m",
      "\u001b[1;31mValueError\u001b[0m                                Traceback (most recent call last)",
      "Cell \u001b[1;32mIn[38], line 25\u001b[0m\n\u001b[0;32m     23\u001b[0m \u001b[38;5;28;01mif\u001b[39;00m user2\u001b[38;5;241m==\u001b[39m\u001b[38;5;124m\"\u001b[39m\u001b[38;5;124myes\u001b[39m\u001b[38;5;124m\"\u001b[39m: \n\u001b[0;32m     24\u001b[0m     item\u001b[38;5;241m=\u001b[39m\u001b[38;5;28minput\u001b[39m(\u001b[38;5;124m\"\u001b[39m\u001b[38;5;124mEnter your item: \u001b[39m\u001b[38;5;124m\"\u001b[39m)\u001b[38;5;241m.\u001b[39mlower()\n\u001b[1;32m---> 25\u001b[0m     quantity\u001b[38;5;241m=\u001b[39m\u001b[38;5;28mint\u001b[39m(\u001b[38;5;28minput\u001b[39m(\u001b[38;5;124m\"\u001b[39m\u001b[38;5;124mEnter your quantity: \u001b[39m\u001b[38;5;124m\"\u001b[39m))\n\u001b[0;32m     26\u001b[0m     \u001b[38;5;66;03m# If the item is on our menu\u001b[39;00m\n\u001b[0;32m     27\u001b[0m     \u001b[38;5;28;01mif\u001b[39;00m item \u001b[38;5;129;01min\u001b[39;00m menu_coffee:\n\u001b[0;32m     28\u001b[0m         \u001b[38;5;66;03m# Quantity Check\u001b[39;00m\n",
      "\u001b[1;31mValueError\u001b[0m: invalid literal for int() with base 10: 'fifteen'"
     ]
    }
   ],
   "source": [
    "def printmenu(menu):\n",
    "    print(\"Jackie's Specials!\")\n",
    "    for item in menu:\n",
    "        print(f\"{item:20}     ${menu[item]}\")\n",
    "\n",
    "menu_coffee = {\n",
    "                \"coffee\":{\"price\":3.0,\"quantity\":5,\"taxable\":True},\n",
    "                \"ham sandwich\":{\"price\":7.50,\"quantity\":3,\"taxable\":True},\n",
    "                \"hot cocoa\":{\"price\":3.5,\"quantity\":10,\"taxable\":True},\n",
    "                \"cookies\":{\"price\":2.25,\"quantity\":10,\"taxable\":True},\n",
    "                \"water\":{\"price\":1.5,\"quantity\":15,\"taxable\":False},\n",
    "                \"croisant\":{\"price\":2.0,\"quantity\":5,\"taxable\":True}\n",
    "                }\n",
    "\n",
    "customer_order = {}\n",
    "\n",
    "print(\"Welcome to Behind-The-Door Break Room Cafe \")\n",
    "menu=input(\"Would you like to see the menu? yes/no: \").lower()\n",
    "if \"yes\"==menu:\n",
    "    printmenu(menu_coffee)\n",
    "while True:\n",
    "    user2=input(\"Would you like to order? yes/no: \").lower()\n",
    "    if user2==\"yes\": \n",
    "        item=input(\"Enter your item: \").lower()\n",
    "        quantity=int(input(\"Enter your quantity (up to {}): \"))\n",
    "        # If the item is on our menu\n",
    "        if item in menu_coffee:\n",
    "            # Quantity Check\n",
    "            quantity_available = menu_coffee[item][\"quantity\"]\n",
    "            if menu_coffee[item][\"quantity\"] >= quantity:\n",
    "                menu_coffee[item][\"quantity\"] = quantity_available - quantity\n",
    "                # Add item to order\n",
    "                if item in customer_order:\n",
    "                    customer_order[item] += quantity\n",
    "                else:\n",
    "                    customer_order[item] = quantity\n",
    "            else:\n",
    "                print(f\"Sorry, we only have {quantity_available} of those.\")\n",
    "        else:\n",
    "            print(f\"Sorry, {item} is not on our menu.  Please try Giant or Safeway.\")\n",
    "    else:\n",
    "        print(\"Thank for your visit!\")\n",
    "        break\n",
    "\n",
    "state=input(\"What state are you from? MD,DC,VA,other \")        \n",
    "        \n",
    "# Print Order\n",
    "subtotal = 0\n",
    "subtotaltax = 0.0\n",
    "print(\"\\n\"*3)\n",
    "print(\"Receipt:\\n~~~~~~~~\")\n",
    "for key in customer_order:\n",
    "    price = menu_coffee[key][\"price\"]\n",
    "    quantity = customer_order[key]\n",
    "    cost = price*quantity\n",
    "    subtotal = subtotal + cost\n",
    "    print(f\"{key:20}:{quantity:3} = ${cost}\")\n",
    "    if (menu_coffee[key][\"taxable\"]):\n",
    "        if state==\"MD\":\n",
    "            subtotaltax += (cost *0.06)\n",
    "        elif state==\"DC\":\n",
    "            subtotaltax = subtotaltax + (cost *0.053)\n",
    "        elif state==\"VA\":\n",
    "            subtotaltax = subtotaltax + (cost *0.0575)\n",
    "        else:\n",
    "            subtotaltax = subtotaltax + (cost *0.05)\n",
    "\n",
    "print(f\"\\nTax:                {subtotaltax:.2f}\")\n",
    "total = subtotal + subtotaltax\n",
    "print(f\"Total:                {total:.2f}\")"
   ]
  },
  {
   "cell_type": "code",
   "execution_count": null,
   "id": "7ecc0648",
   "metadata": {},
   "outputs": [],
   "source": []
  },
  {
   "cell_type": "code",
   "execution_count": null,
   "id": "2a25de6c",
   "metadata": {},
   "outputs": [],
   "source": []
  }
 ],
 "metadata": {
  "kernelspec": {
   "display_name": "Python 3 (ipykernel)",
   "language": "python",
   "name": "python3"
  },
  "language_info": {
   "codemirror_mode": {
    "name": "ipython",
    "version": 3
   },
   "file_extension": ".py",
   "mimetype": "text/x-python",
   "name": "python",
   "nbconvert_exporter": "python",
   "pygments_lexer": "ipython3",
   "version": "3.11.4"
  }
 },
 "nbformat": 4,
 "nbformat_minor": 5
}
